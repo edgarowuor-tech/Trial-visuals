{
 "cells": [
  {
   "cell_type": "code",
   "execution_count": null,
   "id": "4200c6c6",
   "metadata": {},
   "outputs": [],
   "source": []
  },
  {
   "cell_type": "code",
   "execution_count": 1,
   "id": "bfd53c7c",
   "metadata": {},
   "outputs": [],
   "source": [
    "import numpy as np\n",
    "import matplotlib.pyplot as plt"
   ]
  },
  {
   "cell_type": "code",
   "execution_count": 2,
   "id": "e2c045f1",
   "metadata": {},
   "outputs": [
    {
     "name": "stdout",
     "output_type": "stream",
     "text": [
      "[0 1 2 3 4 5 6 7 8 9]\n",
      "[-1.74976547  0.3426804   1.1530358  -0.25243604  0.98132079  0.51421884\n",
      "  0.22117967 -1.07004333 -0.18949583  0.25500144]\n"
     ]
    }
   ],
   "source": [
    "#bar graph:compare categorical data\n",
    "#ensure we get same random values every time(seed)\n",
    "np.random.seed(100)\n",
    "\n",
    "#create categories\n",
    "x=np.arange(10)\n",
    "print(x)\n",
    "\n",
    "y=np.random.randn(10)\n",
    "print(y)"
   ]
  },
  {
   "cell_type": "code",
   "execution_count": 3,
   "id": "a7cfa30c",
   "metadata": {},
   "outputs": [
    {
     "data": {
      "image/png": "[encoded data removed]",
      "text/plain": [
       "<Figure size 720x360 with 1 Axes>"
      ]
     },
     "metadata": {
      "needs_background": "light"
     },
     "output_type": "display_data"
    }
   ],
   "source": [
    "plt.figure(figsize=(10,5))\n",
    "#create bar graph\n",
    "plt.bar(x ,y , label='random values')\n",
    "plt.xlabel('categories')\n",
    "plt.ylabel('quantities')\n",
    "plt.title('Bar Graphs')\n",
    "plt.legend()\n",
    "plt.show()"
   ]
  }
 ],
 "metadata": {
  "kernelspec": {
   "display_name": "learn-env",
   "language": "python",
   "name": "python3"
  },
  "language_info": {
   "codemirror_mode": {
    "name": "ipython",
    "version": 3
   },
   "file_extension": ".py",
   "mimetype": "text/x-python",
   "name": "python",
   "nbconvert_exporter": "python",
   "pygments_lexer": "ipython3",
   "version": "3.8.5"
  }
 },
 "nbformat": 4,
 "nbformat_minor": 5
}
